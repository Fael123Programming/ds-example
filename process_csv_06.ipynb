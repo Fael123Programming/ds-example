{
 "cells": [
  {
   "cell_type": "code",
   "execution_count": 90,
   "id": "1ce47acc",
   "metadata": {
    "ExecuteTime": {
     "end_time": "2023-02-02T13:35:06.205315Z",
     "start_time": "2023-02-02T13:35:06.198872Z"
    }
   },
   "outputs": [],
   "source": [
    "import pandas as pd\n",
    "import numpy as ny\n",
    "from matplotlib import pyplot, gridspec\n",
    "from plotly import express as exp\n",
    "from geopy.geocoders import Nominatim"
   ]
  },
  {
   "cell_type": "code",
   "execution_count": 53,
   "id": "b98ecedd",
   "metadata": {
    "ExecuteTime": {
     "end_time": "2023-02-02T12:12:27.965455Z",
     "start_time": "2023-02-02T12:12:27.907254Z"
    }
   },
   "outputs": [],
   "source": [
    "pd.set_option('display.float_format', lambda x: '%.2f' % x)\n",
    "data = pd.read_csv('datasets/kc_house_data.csv')"
   ]
  },
  {
   "cell_type": "code",
   "execution_count": 21,
   "id": "c0a72604",
   "metadata": {
    "ExecuteTime": {
     "end_time": "2023-02-02T11:29:38.070684Z",
     "start_time": "2023-02-02T11:29:38.067821Z"
    }
   },
   "outputs": [],
   "source": [
    "# How to filter rows of a dataframe based on composite conditions?\n",
    "# data[(data['bedrooms'] == 3) | (data['waterfront'])]"
   ]
  },
  {
   "cell_type": "code",
   "execution_count": 54,
   "id": "1cfb32af",
   "metadata": {
    "ExecuteTime": {
     "end_time": "2023-02-02T12:12:31.367224Z",
     "start_time": "2023-02-02T12:12:31.095280Z"
    }
   },
   "outputs": [
    {
     "data": {
      "text/plain": [
       "<BarContainer object of 4 artists>"
      ]
     },
     "execution_count": 54,
     "metadata": {},
     "output_type": "execute_result"
    },
    {
     "data": {
      "image/png": "[encoded data removed]",
      "text/plain": [
       "<Figure size 640x480 with 1 Axes>"
      ]
     },
     "metadata": {},
     "output_type": "display_data"
    }
   ],
   "source": [
    "# 1. Qual a média do preço de compra dos imóveis por \"Nível\"?\n",
    "#          - Nível 0 -> Preço entre R$0 e R$321.950\n",
    "#          - Nível 1 -> Preço entre R$321.950 e R$450.000\n",
    "#          - Nível 2 -> Preço entre R$450.000 e R$645.000\n",
    "#          - Nível 3 -> Acima de R$645.000\n",
    "\n",
    "# Using a for loop.\n",
    "# for i in range(len(data)):\n",
    "#     if data.loc[i, 'price'] <= 321950:\n",
    "#         data.loc[i, 'level'] = ny.int64(0)\n",
    "#     elif data.loc[i, 'price'] <= 450000:\n",
    "#         data.loc[i, 'level'] = ny.int64(1)\n",
    "#     elif data.loc[i, 'price'] <= 645000:\n",
    "#         data.loc[i, 'level'] = ny.int64(2)\n",
    "#     else:\n",
    "#         data.loc[i, 'level'] = ny.int64(3)\n",
    "# # Another way.\n",
    "# data.loc[data['price'] <= 321950, 'level'] = 0\n",
    "# data.loc[(data['price'] > 321950) & (data['price'] <= 450000), 'level'] = 1\n",
    "# data.loc[(data['price'] > 450000) & (data['price'] <= 645000), 'level'] = 2\n",
    "# data.loc[data['price'] > 645000, 'level'] = 3\n",
    "# # Yet another better way.\n",
    "data['level'] = data['price'].apply(lambda price: 0 if price <= 321950 else 1 if price <= 450000 else 2 if price <= 645000 else 3)\n",
    "# data['level'] = data['level'].astype(ny.int64)\n",
    "df = data[['price', 'level']].groupby('level').mean().reset_index()\n",
    "pyplot.bar(df['level'], df['price'])"
   ]
  },
  {
   "cell_type": "code",
   "execution_count": 10,
   "id": "725e1ce5",
   "metadata": {
    "ExecuteTime": {
     "end_time": "2023-02-01T21:34:07.994501Z",
     "start_time": "2023-02-01T21:34:02.882733Z"
    },
    "code_folding": [
     1
    ]
   },
   "outputs": [],
   "source": [
    "# 2. Adicionar informacoes de endereco (rua, numero, bairro, cidade e estado) dos imoveis.\n",
    "def get_if_exists(dict_key, dict_):\n",
    "    if dict_key in dict_:\n",
    "        return dict_[dict_key]\n",
    "    return ''\n",
    "\n",
    "\n",
    "geo_locator = Nominatim(user_agent='geo_agent')\n",
    "for i in range(len(data)):\n",
    "    if i == 10:  # Doing this because of too much data to process.\n",
    "        break\n",
    "    lat, long = data.loc[i, 'lat'], data.loc[i, 'long']\n",
    "    response = geo_locator.reverse(f'{lat},{long}')\n",
    "    address = response.raw['address']\n",
    "    # Road or street.\n",
    "    road = get_if_exists('road', address)\n",
    "    if not road:\n",
    "        road = get_if_exists('street', address)\n",
    "    # Number.\n",
    "    number = get_if_exists('house_number', address)\n",
    "    if not number:\n",
    "        number = get_if_exists('number', address)\n",
    "    # Neighbourhood or suburb.\n",
    "    neigh = get_if_exists('neighbourhood', address)\n",
    "    if not neigh:\n",
    "        neigh = get_if_exists('suburb', address)\n",
    "    # City.\n",
    "    city = get_if_exists('city', address)\n",
    "    # State.\n",
    "    state = get_if_exists('state', address)\n",
    "    # Filling up the data frame.\n",
    "    data.loc[i, 'road'] = road\n",
    "    data.loc[i, 'number'] = number\n",
    "    data.loc[i, 'neighbourhood'] = neigh\n",
    "    data.loc[i, 'city'] = city\n",
    "    data.loc[i, 'state'] = state"
   ]
  },
  {
   "cell_type": "code",
   "execution_count": 1,
   "id": "eddd43aa",
   "metadata": {
    "ExecuteTime": {
     "end_time": "2023-02-02T18:16:27.679737Z",
     "start_time": "2023-02-02T18:16:27.272939Z"
    }
   },
   "outputs": [
    {
     "ename": "NameError",
     "evalue": "name 'data' is not defined",
     "output_type": "error",
     "traceback": [
      "\u001b[0;31m---------------------------------------------------------------------------\u001b[0m",
      "\u001b[0;31mNameError\u001b[0m                                 Traceback (most recent call last)",
      "Cell \u001b[0;32mIn[1], line 2\u001b[0m\n\u001b[1;32m      1\u001b[0m \u001b[38;5;66;03m# Mostre as casas com cores de acordo com seu 'level' e com o tamanho do circulo de acordo com o preco,\u001b[39;00m\n\u001b[0;32m----> 2\u001b[0m map_data \u001b[38;5;241m=\u001b[39m \u001b[43mdata\u001b[49m[[\u001b[38;5;124m'\u001b[39m\u001b[38;5;124mid\u001b[39m\u001b[38;5;124m'\u001b[39m, \u001b[38;5;124m'\u001b[39m\u001b[38;5;124mprice\u001b[39m\u001b[38;5;124m'\u001b[39m, \u001b[38;5;124m'\u001b[39m\u001b[38;5;124mlevel\u001b[39m\u001b[38;5;124m'\u001b[39m, \u001b[38;5;124m'\u001b[39m\u001b[38;5;124mlat\u001b[39m\u001b[38;5;124m'\u001b[39m, \u001b[38;5;124m'\u001b[39m\u001b[38;5;124mlong\u001b[39m\u001b[38;5;124m'\u001b[39m]]\n\u001b[1;32m      3\u001b[0m map_chart \u001b[38;5;241m=\u001b[39m exp\u001b[38;5;241m.\u001b[39mscatter_mapbox(\n\u001b[1;32m      4\u001b[0m     map_data,\n\u001b[1;32m      5\u001b[0m     lat\u001b[38;5;241m=\u001b[39m\u001b[38;5;124m'\u001b[39m\u001b[38;5;124mlat\u001b[39m\u001b[38;5;124m'\u001b[39m,\n\u001b[0;32m   (...)\u001b[0m\n\u001b[1;32m     11\u001b[0m     zoom\u001b[38;5;241m=\u001b[39m\u001b[38;5;241m10\u001b[39m\n\u001b[1;32m     12\u001b[0m )\n\u001b[1;32m     13\u001b[0m map_chart\u001b[38;5;241m.\u001b[39mupdate_layout(mapbox_style\u001b[38;5;241m=\u001b[39m\u001b[38;5;124m'\u001b[39m\u001b[38;5;124mopen-street-map\u001b[39m\u001b[38;5;124m'\u001b[39m)\n",
      "\u001b[0;31mNameError\u001b[0m: name 'data' is not defined"
     ]
    }
   ],
   "source": [
    "# Mostre as casas com cores de acordo com seu 'level' e com o tamanho do circulo de acordo com o preco,\n",
    "map_data = data[['id', 'price', 'level', 'lat', 'long']]\n",
    "map_chart = exp.scatter_mapbox(\n",
    "    map_data,\n",
    "    lat='lat',\n",
    "    lon='long',\n",
    "    color='level',\n",
    "    size='price',\n",
    "    color_continuous_scale=exp.colors.cyclical.IceFire,\n",
    "    size_max=15,\n",
    "    zoom=10\n",
    ")\n",
    "map_chart.update_layout(mapbox_style='open-street-map')\n",
    "map_chart.update_layout(height=600, margin={'r': 0, 't': 0, 'l': 0, 'b': 0})\n",
    "map_chart.show()\n"
   ]
  },
  {
   "cell_type": "code",
   "execution_count": 56,
   "id": "10dd9680",
   "metadata": {
    "ExecuteTime": {
     "end_time": "2023-02-02T12:12:45.840207Z",
     "start_time": "2023-02-02T12:12:45.835366Z"
    }
   },
   "outputs": [],
   "source": [
    "# Adding interactive filters.\n",
    "import ipywidgets as pywid"
   ]
  },
  {
   "cell_type": "code",
   "execution_count": 73,
   "id": "95e7c012",
   "metadata": {
    "ExecuteTime": {
     "end_time": "2023-02-02T13:22:39.479667Z",
     "start_time": "2023-02-02T13:22:39.330973Z"
    },
    "code_folding": []
   },
   "outputs": [
    {
     "data": {
      "application/vnd.jupyter.widget-view+json": {
       "model_id": "76a4f0e1cfd5499bac2eebf940625e2a",
       "version_major": 2,
       "version_minor": 0
      },
      "text/plain": [
       "interactive(children=(Dropdown(description='Waterfront', index=1, options=('No', 'Yes'), value='Yes'), IntSlid…"
      ]
     },
     "metadata": {},
     "output_type": "display_data"
    }
   ],
   "source": [
    "style = {\n",
    "    'description_width': 'initial'\n",
    "}\n",
    "\n",
    "data['is_waterfront'] = data['waterfront'].apply(lambda x: 'Yes' if x else 'No')\n",
    "    \n",
    "# Price filtering slider.\n",
    "max_price, min_price = data['price'].max(), data['price'].min()\n",
    "price_slider = pywid.IntSlider(\n",
    "    value=(max_price + min_price) / 2,\n",
    "    min=min_price,\n",
    "    max=max_price,\n",
    "    step=1,\n",
    "    description='Price filtering slider $',\n",
    "    disable=False,\n",
    "    style=style\n",
    ")\n",
    "# Waterfront dropdrown.\n",
    "waterfront_dropdown = pywid.Dropdown(\n",
    "    options=data['is_waterfront'].unique().tolist(),\n",
    "    value='Yes',\n",
    "    description='Waterfront',\n",
    "    disable=False\n",
    ")\n",
    "\n",
    "\n",
    "def update_map(dataset, waterfront, price_limit):\n",
    "    map_data = dataset[(dataset['is_waterfront'] == waterfront) & (dataset['price'] <= price_limit)][['id', 'price', 'lat', 'long', 'level']]\n",
    "    map_chart = exp.scatter_mapbox(\n",
    "        map_data,\n",
    "        lat='lat',\n",
    "        lon='long',\n",
    "        color='level',\n",
    "        size='price',\n",
    "        color_continuous_scale=exp.colors.cyclical.IceFire,\n",
    "        size_max=15,\n",
    "        zoom=10\n",
    "    )\n",
    "    map_chart.update_layout(mapbox_style='open-street-map')\n",
    "    map_chart.update_layout(height=600, margin={'r': 0, 't': 0, 'l': 0, 'b': 0})\n",
    "    map_chart.show() \n",
    "    \n",
    "\n",
    "pywid.interactive(update_map, dataset=pywid.fixed(data), waterfront=waterfront_dropdown, price_limit=price_slider)"
   ]
  },
  {
   "cell_type": "code",
   "execution_count": 2,
   "id": "fa48f6e7",
   "metadata": {
    "ExecuteTime": {
     "end_time": "2023-02-02T18:34:53.272187Z",
     "start_time": "2023-02-02T18:34:53.240106Z"
    },
    "code_folding": []
   },
   "outputs": [
    {
     "ename": "NameError",
     "evalue": "name 'pd' is not defined",
     "output_type": "error",
     "traceback": [
      "\u001b[0;31m---------------------------------------------------------------------------\u001b[0m",
      "\u001b[0;31mNameError\u001b[0m                                 Traceback (most recent call last)",
      "Cell \u001b[0;32mIn[2], line 2\u001b[0m\n\u001b[1;32m      1\u001b[0m \u001b[38;5;66;03m# Criando um dashboard com o mapa interativo.\u001b[39;00m\n\u001b[0;32m----> 2\u001b[0m data \u001b[38;5;241m=\u001b[39m \u001b[43mpd\u001b[49m\u001b[38;5;241m.\u001b[39mread_csv(\u001b[38;5;124m'\u001b[39m\u001b[38;5;124mdatasets/kc_house_data.csv\u001b[39m\u001b[38;5;124m'\u001b[39m)\n\u001b[1;32m      3\u001b[0m data[\u001b[38;5;124m'\u001b[39m\u001b[38;5;124myear\u001b[39m\u001b[38;5;124m'\u001b[39m] \u001b[38;5;241m=\u001b[39m pd\u001b[38;5;241m.\u001b[39mto_datetime(data[\u001b[38;5;124m'\u001b[39m\u001b[38;5;124mdate\u001b[39m\u001b[38;5;124m'\u001b[39m])\u001b[38;5;241m.\u001b[39mdt\u001b[38;5;241m.\u001b[39mstrftime(\u001b[38;5;124m'\u001b[39m\u001b[38;5;124m%\u001b[39m\u001b[38;5;124mY\u001b[39m\u001b[38;5;124m'\u001b[39m)\n\u001b[1;32m      4\u001b[0m data[\u001b[38;5;124m'\u001b[39m\u001b[38;5;124mdate\u001b[39m\u001b[38;5;124m'\u001b[39m] \u001b[38;5;241m=\u001b[39m pd\u001b[38;5;241m.\u001b[39mto_datetime(data[\u001b[38;5;124m'\u001b[39m\u001b[38;5;124mdate\u001b[39m\u001b[38;5;124m'\u001b[39m])\u001b[38;5;241m.\u001b[39mdt\u001b[38;5;241m.\u001b[39mstrftime(\u001b[38;5;124m'\u001b[39m\u001b[38;5;124m%\u001b[39m\u001b[38;5;124mY-\u001b[39m\u001b[38;5;124m%\u001b[39m\u001b[38;5;124mm-\u001b[39m\u001b[38;5;132;01m%d\u001b[39;00m\u001b[38;5;124m'\u001b[39m)\n",
      "\u001b[0;31mNameError\u001b[0m: name 'pd' is not defined"
     ]
    }
   ],
   "source": [
    "# Criando um dashboard com o mapa interativo.\n",
    "data = pd.read_csv('datasets/kc_house_data.csv')\n",
    "data['year'] = pd.to_datetime(data['date']).dt.strftime('%Y')\n",
    "data['date'] = pd.to_datetime(data['date']).dt.strftime('%Y-%m-%d')\n",
    "data['year_week'] = pd.to_datetime(data['date']).dt.strftime('%Y-%U')\n",
    "\n",
    "# Widgets.\n",
    "date_slider = pywid.SelectionSlider(\n",
    "    options = data['date'].sort_values().unique().tolist(),\n",
    "    value=data['date'].min(),\n",
    "    description='Available',\n",
    "    continuous_update=False,\n",
    "    orientation='horizontal',\n",
    "    readout=True\n",
    ")\n",
    "\n",
    "\n",
    "def update_map(data, date_limit):\n",
    "    filtered_data = data[data['date'] >= date_limit]\n",
    "    fig = pyplot.figure(figsize=(20, 12))\n",
    "    specs = gridspec.GridSpec(ncols=2, nrows=2, figure=fig)\n",
    "    ax1 = fig.add_subplot(specs[0, :])\n",
    "    ax2 = fig.add_subplot(specs[1, 0])\n",
    "    ax3 = fig.add_subplot(specs[1, 1])\n",
    "    \n",
    "    data_ax1 = filtered_data[['price', 'year']].groupby('year').mean().reset_index()\n",
    "    ax1.set_title('Average Price by Year')\n",
    "    ax1.bar(data_ax1['year'], data_ax1['price'])\n",
    "    \n",
    "    data_ax2 = filtered_data[['price', 'date']].groupby('date').mean().reset_index()\n",
    "    ax2.set_title('Average Price by Date')\n",
    "    pyplot.xticks(rotation=90)\n",
    "    ax2.plot(data_ax2['date'], data_ax2['price'])\n",
    "    \n",
    "    data_ax3 = filtered_data[['price', 'year_week']].groupby('year_week').mean().reset_index()\n",
    "    ax3.set_title('Average Price by Year Week')\n",
    "    pyplot.xticks(rotation=90)\n",
    "    ax3.plot(data_ax3['year_week'], data_ax3['price'])\n",
    "    \n",
    "    \n",
    "pywid.interactive(update_map, data=pywid.fixed(data), date_limit=date_slider)"
   ]
  },
  {
   "cell_type": "code",
   "execution_count": null,
   "id": "8a6c3146",
   "metadata": {
    "ExecuteTime": {
     "end_time": "2023-02-02T13:45:41.329696Z",
     "start_time": "2023-02-02T13:45:41.310839Z"
    }
   },
   "outputs": [],
   "source": []
  },
  {
   "cell_type": "code",
   "execution_count": null,
   "id": "44aa378e",
   "metadata": {
    "ExecuteTime": {
     "end_time": "2023-02-02T13:46:09.622858Z",
     "start_time": "2023-02-02T13:46:09.605655Z"
    }
   },
   "outputs": [],
   "source": []
  },
  {
   "cell_type": "code",
   "execution_count": null,
   "id": "c52c17d7",
   "metadata": {
    "ExecuteTime": {
     "end_time": "2023-02-02T13:47:40.249039Z",
     "start_time": "2023-02-02T13:47:40.231050Z"
    }
   },
   "outputs": [],
   "source": []
  },
  {
   "cell_type": "code",
   "execution_count": null,
   "id": "1c0bca2e",
   "metadata": {},
   "outputs": [],
   "source": []
  }
 ],
 "metadata": {
  "kernelspec": {
   "display_name": ".venv",
   "language": "python",
   "name": "python3"
  },
  "language_info": {
   "codemirror_mode": {
    "name": "ipython",
    "version": 3
   },
   "file_extension": ".py",
   "mimetype": "text/x-python",
   "name": "python",
   "nbconvert_exporter": "python",
   "pygments_lexer": "ipython3",
   "version": "3.10.9"
  },
  "vscode": {
   "interpreter": {
    "hash": "dae3b74c4cc3b8d45f739b4bd528e8942df673bd17cc3f4827bd089bfc2fa809"
   }
  }
 },
 "nbformat": 4,
 "nbformat_minor": 5
}
